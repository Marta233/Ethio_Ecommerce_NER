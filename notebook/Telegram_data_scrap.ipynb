{
 "cells": [
  {
   "attachments": {},
   "cell_type": "markdown",
   "metadata": {},
   "source": [
    "### Task 1: Ethiomart e-commerce data scraping and labling from Telegram channel"
   ]
  },
  {
   "cell_type": "code",
   "execution_count": 5,
   "metadata": {},
   "outputs": [],
   "source": [
    "import os\n",
    "import sys\n",
    "import pandas as pd\n",
    "# Get the current working directory\n",
    "current_dir = os.getcwd()\n",
    "\n",
    "# Append the parent directory to sys.path\n",
    "parent_dir = os.path.dirname(current_dir)\n",
    "sys.path.append(parent_dir)\n",
    "\n",
    "# ignore warrnings\n",
    "import warnings\n",
    "warnings.filterwarnings(\"ignore\")"
   ]
  },
  {
   "cell_type": "code",
   "execution_count": 8,
   "metadata": {},
   "outputs": [],
   "source": [
    "from scripts.preprocess_text_data import preprocess_text"
   ]
  },
  {
   "cell_type": "code",
   "execution_count": 9,
   "metadata": {},
   "outputs": [],
   "source": [
    "\n",
    "telegram_data = pd.read_csv('../Data/telegram_data_qnashcom.csv')"
   ]
  },
  {
   "attachments": {},
   "cell_type": "markdown",
   "metadata": {},
   "source": [
    "### Text Preprocessing"
   ]
  },
  {
   "cell_type": "code",
   "execution_count": 10,
   "metadata": {},
   "outputs": [
    {
     "data": {
      "text/html": [
       "<div>\n",
       "<style scoped>\n",
       "    .dataframe tbody tr th:only-of-type {\n",
       "        vertical-align: middle;\n",
       "    }\n",
       "\n",
       "    .dataframe tbody tr th {\n",
       "        vertical-align: top;\n",
       "    }\n",
       "\n",
       "    .dataframe thead th {\n",
       "        text-align: right;\n",
       "    }\n",
       "</style>\n",
       "<table border=\"1\" class=\"dataframe\">\n",
       "  <thead>\n",
       "    <tr style=\"text-align: right;\">\n",
       "      <th></th>\n",
       "      <th>Message</th>\n",
       "      <th>Preprocessed_Message</th>\n",
       "    </tr>\n",
       "  </thead>\n",
       "  <tbody>\n",
       "    <tr>\n",
       "      <th>0</th>\n",
       "      <td>🔥**2 ሊትር  ፔርሙስ**\\nለቤት  ለቢሮ  ለሆቴል አገልግሎት መዋል የሚ...</td>\n",
       "      <td>2 ሊትር ፔርሙስ ለቤት ለቢሮ ለሆቴል አገልግሎት መዋል የሚችሉ አሪፍ ፔር...</td>\n",
       "    </tr>\n",
       "    <tr>\n",
       "      <th>1</th>\n",
       "      <td>📌🦴 Knife ቢላ \\n\\n☄️ High Quality \\n\\n🥩የስጋ, 🦴 የአ...</td>\n",
       "      <td>ቢላ ️ የስጋ የአጥንት 1000 ብር ለማዘዝ ውስን ፍሬ ነው የቀረው ጥራት...</td>\n",
       "    </tr>\n",
       "    <tr>\n",
       "      <th>2</th>\n",
       "      <td>📌 2 PCs Silicon Brush Spatula\\n\\n⚡️ አንድ ብሩሽ እና...</td>\n",
       "      <td>2 ️ አንድ ብሩሽ እና አንድ ስፓቹላ ዋጋ 300 ብር ለማዘዝ ውስን ፍሬ ...</td>\n",
       "    </tr>\n",
       "    <tr>\n",
       "      <th>3</th>\n",
       "      <td>📌 2 PCs Silicon Brush Spatula\\n\\n⚡️ አንድ ብሩሽ እና...</td>\n",
       "      <td>2 ️ አንድ ብሩሽ እና አንድ ስፓቹላ ዋጋ 300 ብር ውስን ፍሬ ነው የቀ...</td>\n",
       "    </tr>\n",
       "    <tr>\n",
       "      <th>4</th>\n",
       "      <td>📣💪 **Alumunium Cloth Drying Stand**\\n\\n👕 የልብስ ...</td>\n",
       "      <td>የልብስ ማስጪያ ከአልሙኒየም የተሰራ የሚተጣጠፍ ለማስቀመጥ ቦታ የማይዝ ዋ...</td>\n",
       "    </tr>\n",
       "    <tr>\n",
       "      <th>...</th>\n",
       "      <td>...</td>\n",
       "      <td>...</td>\n",
       "    </tr>\n",
       "    <tr>\n",
       "      <th>3438</th>\n",
       "      <td>👔የልብስ መተኮሻ ቴብል ከ ኦርጅናል ስቲም ካውያ ጋር \\n  -የራሱ መቆጣ...</td>\n",
       "      <td>የልብስ መተኮሻ ቴብል ከ ኦርጅናል ስቲም ካውያ ጋር የራሱ መቆጣጠሪያ ያለ...</td>\n",
       "    </tr>\n",
       "    <tr>\n",
       "      <th>3439</th>\n",
       "      <td>🚫ቤትዎን ከአይጥ 🐀 ከበረሮ🕷 እና ከተባይ🐜 🚫\\n               ...</td>\n",
       "      <td>ቤትዎን ከአይጥ ከበረሮ እና ከተባይ ነፃ ያድርጉ በቀላሉ በማንኛውም ሶኬት...</td>\n",
       "    </tr>\n",
       "    <tr>\n",
       "      <th>3440</th>\n",
       "      <td>😍  ታላቅ ቅናሽ 😍\\nዘመናዊ መደርደሪያው ብረት የሆነ ጫማ መደርደሪያ\\n...</td>\n",
       "      <td>ታላቅ ቅናሽ ዘመናዊ መደርደሪያው ብረት የሆነ ጫማ መደርደሪያ ባለ ዘጠኝ ...</td>\n",
       "    </tr>\n",
       "    <tr>\n",
       "      <th>3441</th>\n",
       "      <td>NaN</td>\n",
       "      <td></td>\n",
       "    </tr>\n",
       "    <tr>\n",
       "      <th>3442</th>\n",
       "      <td>NaN</td>\n",
       "      <td></td>\n",
       "    </tr>\n",
       "  </tbody>\n",
       "</table>\n",
       "<p>3443 rows × 2 columns</p>\n",
       "</div>"
      ],
      "text/plain": [
       "                                                Message  \\\n",
       "0     🔥**2 ሊትር  ፔርሙስ**\\nለቤት  ለቢሮ  ለሆቴል አገልግሎት መዋል የሚ...   \n",
       "1     📌🦴 Knife ቢላ \\n\\n☄️ High Quality \\n\\n🥩የስጋ, 🦴 የአ...   \n",
       "2     📌 2 PCs Silicon Brush Spatula\\n\\n⚡️ አንድ ብሩሽ እና...   \n",
       "3     📌 2 PCs Silicon Brush Spatula\\n\\n⚡️ አንድ ብሩሽ እና...   \n",
       "4     📣💪 **Alumunium Cloth Drying Stand**\\n\\n👕 የልብስ ...   \n",
       "...                                                 ...   \n",
       "3438  👔የልብስ መተኮሻ ቴብል ከ ኦርጅናል ስቲም ካውያ ጋር \\n  -የራሱ መቆጣ...   \n",
       "3439  🚫ቤትዎን ከአይጥ 🐀 ከበረሮ🕷 እና ከተባይ🐜 🚫\\n               ...   \n",
       "3440  😍  ታላቅ ቅናሽ 😍\\nዘመናዊ መደርደሪያው ብረት የሆነ ጫማ መደርደሪያ\\n...   \n",
       "3441                                                NaN   \n",
       "3442                                                NaN   \n",
       "\n",
       "                                   Preprocessed_Message  \n",
       "0     2 ሊትር ፔርሙስ ለቤት ለቢሮ ለሆቴል አገልግሎት መዋል የሚችሉ አሪፍ ፔር...  \n",
       "1     ቢላ ️ የስጋ የአጥንት 1000 ብር ለማዘዝ ውስን ፍሬ ነው የቀረው ጥራት...  \n",
       "2     2 ️ አንድ ብሩሽ እና አንድ ስፓቹላ ዋጋ 300 ብር ለማዘዝ ውስን ፍሬ ...  \n",
       "3     2 ️ አንድ ብሩሽ እና አንድ ስፓቹላ ዋጋ 300 ብር ውስን ፍሬ ነው የቀ...  \n",
       "4     የልብስ ማስጪያ ከአልሙኒየም የተሰራ የሚተጣጠፍ ለማስቀመጥ ቦታ የማይዝ ዋ...  \n",
       "...                                                 ...  \n",
       "3438  የልብስ መተኮሻ ቴብል ከ ኦርጅናል ስቲም ካውያ ጋር የራሱ መቆጣጠሪያ ያለ...  \n",
       "3439  ቤትዎን ከአይጥ ከበረሮ እና ከተባይ ነፃ ያድርጉ በቀላሉ በማንኛውም ሶኬት...  \n",
       "3440  ታላቅ ቅናሽ ዘመናዊ መደርደሪያው ብረት የሆነ ጫማ መደርደሪያ ባለ ዘጠኝ ...  \n",
       "3441                                                     \n",
       "3442                                                     \n",
       "\n",
       "[3443 rows x 2 columns]"
      ]
     },
     "execution_count": 10,
     "metadata": {},
     "output_type": "execute_result"
    }
   ],
   "source": [
    "# Apply preprocessing to 'Message' column\n",
    "telegram_data['Preprocessed_Message'] = telegram_data['Message'].apply(preprocess_text)\n",
    "\n",
    "# Display the preprocessed data\n",
    "telegram_data[['Message', 'Preprocessed_Message']]"
   ]
  },
  {
   "attachments": {},
   "cell_type": "markdown",
   "metadata": {},
   "source": [
    "### Text Labling"
   ]
  },
  {
   "attachments": {},
   "cell_type": "markdown",
   "metadata": {},
   "source": []
  },
  {
   "attachments": {},
   "cell_type": "markdown",
   "metadata": {},
   "source": [
    "### Save the data in CoNLL format"
   ]
  },
  {
   "attachments": {},
   "cell_type": "markdown",
   "metadata": {},
   "source": []
  }
 ],
 "metadata": {
  "kernelspec": {
   "display_name": ".venv",
   "language": "python",
   "name": "python3"
  },
  "language_info": {
   "codemirror_mode": {
    "name": "ipython",
    "version": 3
   },
   "file_extension": ".py",
   "mimetype": "text/x-python",
   "name": "python",
   "nbconvert_exporter": "python",
   "pygments_lexer": "ipython3",
   "version": "3.12.6"
  },
  "orig_nbformat": 4
 },
 "nbformat": 4,
 "nbformat_minor": 2
}
