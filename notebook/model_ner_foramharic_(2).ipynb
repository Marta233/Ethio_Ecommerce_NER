{
  "cells": [
    {
      "cell_type": "markdown",
      "metadata": {
        "_cell_guid": "b1076dfc-b9ad-4769-8c92-a6c4dae69d19",
        "_uuid": "8f2839f25d086af736a60e9eeb907d3b93b6e0e5",
        "execution": {
          "iopub.execute_input": "2024-09-28T14:09:26.893915Z",
          "iopub.status.busy": "2024-09-28T14:09:26.893449Z",
          "iopub.status.idle": "2024-09-28T14:09:28.561714Z",
          "shell.execute_reply": "2024-09-28T14:09:28.560307Z",
          "shell.execute_reply.started": "2024-09-28T14:09:26.893870Z"
        },
        "id": "1WNJYnLIcb8G"
      },
      "source": [
        "#### AutoTokenizer: Helps convert text into the token format needed by the model. AutoModelForTokenClassification: Loads the pre-trained model for NER tasks with the specified number of labels."
      ]
    },
    {
      "cell_type": "markdown",
      "metadata": {
        "id": "arHLJ0UOcb8J"
      },
      "source": [
        "Step 1: Load the Dataset"
      ]
    },
    {
      "cell_type": "code",
      "execution_count": 12,
      "metadata": {
        "id": "2qoJV4agcb8J",
        "trusted": true
      },
      "outputs": [],
      "source": [
        "import pandas as pd\n",
        "from sklearn.model_selection import train_test_split\n",
        "\n",
        "def load_conll_format(file_path):\n",
        "    with open(file_path, 'r', encoding='utf-8') as f:\n",
        "        data = []\n",
        "        sentence = []\n",
        "        labels = []\n",
        "\n",
        "        for line in f:\n",
        "            line = line.strip()\n",
        "            if line == \"\":\n",
        "                if sentence:  # Only append if the sentence list is not empty\n",
        "                    data.append((sentence, labels))\n",
        "                    sentence = []\n",
        "                    labels = []\n",
        "            else:\n",
        "                parts = line.split()\n",
        "                if len(parts) == 2:  # Ensure there are exactly two parts\n",
        "                    token, label = parts\n",
        "                    sentence.append(token)\n",
        "                    labels.append(label)\n",
        "                else:\n",
        "                    print(f\"Skipping line: {line}\")  # Optional: print to debug which lines are problematic\n",
        "\n",
        "        if sentence:  # Append the last sentence if the file doesn't end with a newline\n",
        "            data.append((sentence, labels))\n",
        "\n",
        "    return pd.DataFrame(data, columns=['tokens', 'labels'])\n",
        "\n",
        "df = load_conll_format(\"telegram_data_conll_format_51_101.txt\")\n",
        "train_df, val_df = train_test_split(df, test_size=0.2, random_state=42)"
      ]
    },
    {
      "cell_type": "code",
      "execution_count": 13,
      "metadata": {
        "colab": {
          "base_uri": "https://localhost:8080/",
          "height": 1000
        },
        "id": "U4-oRbcOgQK3",
        "outputId": "98761e06-7729-43a3-c6de-08f6d1f416ea"
      },
      "outputs": [
        {
          "data": {
            "text/html": [
              "<div>\n",
              "<style scoped>\n",
              "    .dataframe tbody tr th:only-of-type {\n",
              "        vertical-align: middle;\n",
              "    }\n",
              "\n",
              "    .dataframe tbody tr th {\n",
              "        vertical-align: top;\n",
              "    }\n",
              "\n",
              "    .dataframe thead th {\n",
              "        text-align: right;\n",
              "    }\n",
              "</style>\n",
              "<table border=\"1\" class=\"dataframe\">\n",
              "  <thead>\n",
              "    <tr style=\"text-align: right;\">\n",
              "      <th></th>\n",
              "      <th>tokens</th>\n",
              "      <th>labels</th>\n",
              "    </tr>\n",
              "  </thead>\n",
              "  <tbody>\n",
              "    <tr>\n",
              "      <th>12</th>\n",
              "      <td>[15, 540, ለፀጉሮ, እና, ለፂሞ, ዕድገት, ለፊቶ, ጥራት, የፊት, ...</td>\n",
              "      <td>[O, O, O, O, O, O, O, O, O, O, O, O, O, O, O, ...</td>\n",
              "    </tr>\n",
              "    <tr>\n",
              "      <th>4</th>\n",
              "      <td>[5, 1, 5, 2, 2, 600, 1, 1, 5500, ብር, ከ, ነፃ, ማድ...</td>\n",
              "      <td>[O, O, O, O, O, O, O, O, B-PRICE, I-PRICE, O, ...</td>\n",
              "    </tr>\n",
              "    <tr>\n",
              "      <th>37</th>\n",
              "      <td>[10, 450, ብር, ውስን, ፍሬ, ነው, የቀረው, ️ጥራት, ዋስትና, ቅ...</td>\n",
              "      <td>[O, B-PRICE, I-PRICE, O, O, O, O, O, O, O, O, ...</td>\n",
              "    </tr>\n",
              "    <tr>\n",
              "      <th>8</th>\n",
              "      <td>[️500, ያለን, ግማሽ, ሊትር, 500ሚሊ, ብቻ, ነው, ያለው, ከለር,...</td>\n",
              "      <td>[O, O, O, O, O, O, O, O, O, O, O, B-PRICE, I-P...</td>\n",
              "    </tr>\n",
              "    <tr>\n",
              "      <th>3</th>\n",
              "      <td>[5, 1, አምስት, በአንድ, ለአጠቃቀም, ቀላል, ውበትን, የሚያላበስ, ...</td>\n",
              "      <td>[O, O, O, O, O, O, O, O, O, O, B-PRODUCT, O, I...</td>\n",
              "    </tr>\n",
              "    <tr>\n",
              "      <th>6</th>\n",
              "      <td>[100ኦርጂናል, ጋርመንት, ስቲመር, ️የራሱ, መተኮሻ, ቦርድ, የተገጠመ...</td>\n",
              "      <td>[B-PRODUCT, I-PRODUCT, I-PRODUCT, O, O, O, O, ...</td>\n",
              "    </tr>\n",
              "    <tr>\n",
              "      <th>41</th>\n",
              "      <td>[3, 3, ፍሬ, የልጆች, ጡጦ, 1984, 0, 260, 3, ፍሬ, 1400...</td>\n",
              "      <td>[O, O, B-PRODUCT, I-PRODUCT, I-PRODUCT, O, O, ...</td>\n",
              "    </tr>\n",
              "    <tr>\n",
              "      <th>46</th>\n",
              "      <td>[⏱⏱, በመጠቀም, የእግሮን, ጤና, እና, ልስላሴ, ይጠብቁ, ️ብዙ, ጊዜ...</td>\n",
              "      <td>[O, O, O, O, O, O, O, O, O, O, O, O, O, O, O, ...</td>\n",
              "    </tr>\n",
              "    <tr>\n",
              "      <th>47</th>\n",
              "      <td>[100, ️360°, 250, 15, 220240, 2000, ዋጋ, 2700, ...</td>\n",
              "      <td>[O, O, O, O, O, O, B-PRICE, I-PRICE, I-PRICE, ...</td>\n",
              "    </tr>\n",
              "    <tr>\n",
              "      <th>15</th>\n",
              "      <td>[34, 1500, 4500, ብር, ከ, ነፃ, ማድረስ, ጋር, ለማዘዝ, ዲሊ...</td>\n",
              "      <td>[O, O, B-PRICE, I-PRICE, O, O, O, O, O, O, O, ...</td>\n",
              "    </tr>\n",
              "    <tr>\n",
              "      <th>9</th>\n",
              "      <td>[️500, ያለን, ግማሽ, ሊትር, 500ሚሊ, ብቻ, ነው, ያለው, ከለር,...</td>\n",
              "      <td>[O, O, O, O, O, O, O, O, O, O, O, B-PRICE, I-P...</td>\n",
              "    </tr>\n",
              "    <tr>\n",
              "      <th>16</th>\n",
              "      <td>[ለቤቶ, ለስጦታ, በጥራት, በቅናሽ, ውስን, ፍሬ, የቀሩ, ዕቃወች, አሁ...</td>\n",
              "      <td>[O, O, O, O, O, O, O, B-PRODUCT, O, O, O, O, O...</td>\n",
              "    </tr>\n",
              "    <tr>\n",
              "      <th>24</th>\n",
              "      <td>[የሽንኩርት, እና, የስጋ, መፍጫ, ማሽን, ️ሶስት, የፍጥነት, አማራጭ,...</td>\n",
              "      <td>[B-PRODUCT, O, I-PRODUCT, I-PRODUCT, I-PRODUCT...</td>\n",
              "    </tr>\n",
              "    <tr>\n",
              "      <th>34</th>\n",
              "      <td>[በዚህ, ክረምት, ደረጃ, ላይ, እንዳያንሽራተት, የሚጠቅም, ሁነኛ, ተለ...</td>\n",
              "      <td>[O, O, B-PRODUCT, I-PRODUCT, I-PRODUCT, I-PROD...</td>\n",
              "    </tr>\n",
              "    <tr>\n",
              "      <th>31</th>\n",
              "      <td>[ጄል, ኮፍያ, ️ለራስ, ምታት, ህመም, መፍትሄ, ጄሉን, ለብሰው, ሲተኙ...</td>\n",
              "      <td>[B-PRODUCT, I-PRODUCT, O, O, O, O, O, O, O, O,...</td>\n",
              "    </tr>\n",
              "    <tr>\n",
              "      <th>0</th>\n",
              "      <td>[️, 4, 1, 400, 10000, ብር, ከ, ነፃ, ማድረስ, ጋር, ለማዘ...</td>\n",
              "      <td>[O, O, O, O, B-PRICE, I-PRICE, O, O, O, O, O, ...</td>\n",
              "    </tr>\n",
              "    <tr>\n",
              "      <th>44</th>\n",
              "      <td>[የውኃ, እንፋሎት, የፊትዎን, ቀዳዳ, በመክፈት, ቆሻሻ, ውልቅ, ብሎ, ...</td>\n",
              "      <td>[O, O, O, O, O, O, O, O, O, O, O, O, O, O, O, ...</td>\n",
              "    </tr>\n",
              "    <tr>\n",
              "      <th>27</th>\n",
              "      <td>[400, ዋጋ, 700, ብር, ለማዘዝ, ️ጥራት, ዋስትና, ቅናሽ, አድራሻ...</td>\n",
              "      <td>[O, B-PRICE, I-PRICE, I-PRICE, O, O, O, O, O, ...</td>\n",
              "    </tr>\n",
              "    <tr>\n",
              "      <th>33</th>\n",
              "      <td>[7, 1, 600, 15, 220, 39, ️3, ዋጋ, 9300, ብር, ከ, ...</td>\n",
              "      <td>[O, O, O, O, O, O, O, B-PRICE, I-PRICE, I-PRIC...</td>\n",
              "    </tr>\n",
              "    <tr>\n",
              "      <th>5</th>\n",
              "      <td>[ክቡራን, ደንበኞቻችን, እሁድ, ሙሉ, ቀን, ሱቃችን, ዝግ, ነው, ከሰኞ...</td>\n",
              "      <td>[O, O, O, O, O, O, O, O, O, O, O, O, O, O, O, ...</td>\n",
              "    </tr>\n",
              "    <tr>\n",
              "      <th>29</th>\n",
              "      <td>[️3, 1, ህክምና, ይሰጣል, እና, ህክምና, በቤትዎ, የሆርሞን, መዛባ...</td>\n",
              "      <td>[O, O, O, O, O, O, O, O, O, O, O, O, O, O, O, ...</td>\n",
              "    </tr>\n",
              "    <tr>\n",
              "      <th>11</th>\n",
              "      <td>[15, 540, ለፀጉሮ, እና, ለፂሞ, ዕድገት, ለፊቶ, ጥራት, የፊት, ...</td>\n",
              "      <td>[O, O, O, O, O, O, O, O, O, O, O, O, O, O, O, ...</td>\n",
              "    </tr>\n",
              "    <tr>\n",
              "      <th>36</th>\n",
              "      <td>[አሁኑኑ, ይዘዙን, ውስን, ፍሬ, የቀሩ, ዕቃወች, ለማዘዝ, ጥራት, ️ዋ...</td>\n",
              "      <td>[O, O, O, O, O, B-PRODUCT, O, O, O, O, O, O, O...</td>\n",
              "    </tr>\n",
              "    <tr>\n",
              "      <th>1</th>\n",
              "      <td>[4, 1, 400, 10000, ብር, ከ, ነፃ, ማድረስ, ጋር, ለማዘዝ, ...</td>\n",
              "      <td>[O, O, O, B-PRODUCT, I-PRICE, O, O, O, O, O, O...</td>\n",
              "    </tr>\n",
              "    <tr>\n",
              "      <th>21</th>\n",
              "      <td>[ለቤቶ, ለስጦታ, በጥራት, በቅናሽ, ውስን, ፍሬ, የቀሩ, ዕቃወች, አሁ...</td>\n",
              "      <td>[O, O, O, O, O, O, O, I-PRODUCT, O, O, O, O, O...</td>\n",
              "    </tr>\n",
              "    <tr>\n",
              "      <th>2</th>\n",
              "      <td>[ባለ1, እና, ባለ, 2, ተች, ስቶቭ, ግዜዎን, እና, ጉልበትዎን, የሚ...</td>\n",
              "      <td>[B-PRODUCT, I-PRODUCT, I-PRODUCT, O, I-PRODUCT...</td>\n",
              "    </tr>\n",
              "    <tr>\n",
              "      <th>43</th>\n",
              "      <td>[አሁኑኑ, ይዘዙን, ውስን, ፍሬ, የቀሩ, ዕቃወች, ለማዘዝ, ጥራት, ️ዋ...</td>\n",
              "      <td>[O, O, O, O, O, B-PRODUCT, O, O, O, O, O, O, O...</td>\n",
              "    </tr>\n",
              "    <tr>\n",
              "      <th>35</th>\n",
              "      <td>[በዚህ, ክረምት, ደረጃ, ላይ, እንዳያንሽራተት, የሚጠቅም, ሁነኛ, ተለ...</td>\n",
              "      <td>[O, O, B-PRODUCT, I-PRODUCT, I-PRODUCT, I-PROD...</td>\n",
              "    </tr>\n",
              "    <tr>\n",
              "      <th>23</th>\n",
              "      <td>[7, 1, 800, 8000, ብር, ከ, ነፃ, ማድረስ, ጋር, ለማዘዝ, ዲ...</td>\n",
              "      <td>[O, O, O, B-PRICE, I-PRICE, O, O, O, O, O, O, ...</td>\n",
              "    </tr>\n",
              "    <tr>\n",
              "      <th>40</th>\n",
              "      <td>[አሁኑኑ, ይዘዙን, ውስን, ፍሬ, የቀሩ, ዕቃወች, ለማዘዝ, ጥራት, ️ዋ...</td>\n",
              "      <td>[O, O, O, O, O, I-PRODUCT, O, O, O, O, O, O, O...</td>\n",
              "    </tr>\n",
              "    <tr>\n",
              "      <th>10</th>\n",
              "      <td>[15, 540, ለፀጉሮ, እና, ለፂሞ, ዕድገት, ለፊቶ, ጥራት, የፊት, ...</td>\n",
              "      <td>[O, O, O, O, O, O, O, O, O, O, O, O, O, O, O, ...</td>\n",
              "    </tr>\n",
              "    <tr>\n",
              "      <th>22</th>\n",
              "      <td>[ክቡራን, ደንበኞቻችን, እሁድ, ሙሉ, ቀን, ሱቃችን, ዝግ, ነው, ከሰኞ...</td>\n",
              "      <td>[O, O, O, O, O, O, O, O, O, O, O, O, O, O, O, ...</td>\n",
              "    </tr>\n",
              "    <tr>\n",
              "      <th>18</th>\n",
              "      <td>[️ሻይ, ማፍያ, እና, ውሃ, ማፍያ, 1500, 800, 2, 360°, 30...</td>\n",
              "      <td>[B-PRODUCT, I-PRODUCT, O, I-PRODUCT, I-PRODUCT...</td>\n",
              "    </tr>\n",
              "    <tr>\n",
              "      <th>49</th>\n",
              "      <td>[የሽንኩርት, እና, የስጋ, መፍጫ, ማሽን, ️ሶስት, የፍጥነት, አማራጭ,...</td>\n",
              "      <td>[B-PRODUCT, O, I-PRODUCT, I-PRODUCT, I-PRODUCT...</td>\n",
              "    </tr>\n",
              "    <tr>\n",
              "      <th>20</th>\n",
              "      <td>[6, ሊትር, 1800, ዋት, 360°, 4500, ብር, ከ, ነፃ, ማድረስ...</td>\n",
              "      <td>[O, O, O, O, O, B-PRICE, I-PRICE, O, O, O, O, ...</td>\n",
              "    </tr>\n",
              "    <tr>\n",
              "      <th>7</th>\n",
              "      <td>[4000, ብር, ከ, ነፃ, ማድረስ, ጋር, ለማዘዝ, ዲሊቨሪ, ብቻ, ️ጥ...</td>\n",
              "      <td>[B-PRICE, I-PRICE, O, O, O, O, O, O, O, O, O, ...</td>\n",
              "    </tr>\n",
              "    <tr>\n",
              "      <th>42</th>\n",
              "      <td>[አሁኑኑ, ይዘዙን, ውስን, ፍሬ, የቀሩ, ዕቃወች, ለማዘዝ, ጥራት, ️ዋ...</td>\n",
              "      <td>[O, O, O, O, O, B-PRODUCT, O, O, O, O, O, O, O...</td>\n",
              "    </tr>\n",
              "    <tr>\n",
              "      <th>14</th>\n",
              "      <td>[ከጃር, ላይ, የመጠጥ, ዉሃ, የሚስብ, ተንቀሳቃሽ, ማሽን, በተመጣጣኝ,...</td>\n",
              "      <td>[B-PRODUCT, I-PRODUCT, I-PRODUCT, I-PRODUCT, I...</td>\n",
              "    </tr>\n",
              "    <tr>\n",
              "      <th>28</th>\n",
              "      <td>[45, 450, 5500, ብር, ከ, ነፃ, ማድረስ, ጋር, ለማዘዝ, ዲሊቨ...</td>\n",
              "      <td>[O, O, B-PRICE, I-PRICE, O, O, O, O, O, O, O, ...</td>\n",
              "    </tr>\n",
              "    <tr>\n",
              "      <th>38</th>\n",
              "      <td>[10, 450, ብር, ውስን, ፍሬ, ነው, የቀረው, ️ጥራት, ዋስትና, ቅ...</td>\n",
              "      <td>[O, B-PRICE, I-PRICE, O, O, O, O, O, O, O, O, ...</td>\n",
              "    </tr>\n",
              "  </tbody>\n",
              "</table>\n",
              "</div>"
            ],
            "text/plain": [
              "                                               tokens  \\\n",
              "12  [15, 540, ለፀጉሮ, እና, ለፂሞ, ዕድገት, ለፊቶ, ጥራት, የፊት, ...   \n",
              "4   [5, 1, 5, 2, 2, 600, 1, 1, 5500, ብር, ከ, ነፃ, ማድ...   \n",
              "37  [10, 450, ብር, ውስን, ፍሬ, ነው, የቀረው, ️ጥራት, ዋስትና, ቅ...   \n",
              "8   [️500, ያለን, ግማሽ, ሊትር, 500ሚሊ, ብቻ, ነው, ያለው, ከለር,...   \n",
              "3   [5, 1, አምስት, በአንድ, ለአጠቃቀም, ቀላል, ውበትን, የሚያላበስ, ...   \n",
              "6   [100ኦርጂናል, ጋርመንት, ስቲመር, ️የራሱ, መተኮሻ, ቦርድ, የተገጠመ...   \n",
              "41  [3, 3, ፍሬ, የልጆች, ጡጦ, 1984, 0, 260, 3, ፍሬ, 1400...   \n",
              "46  [⏱⏱, በመጠቀም, የእግሮን, ጤና, እና, ልስላሴ, ይጠብቁ, ️ብዙ, ጊዜ...   \n",
              "47  [100, ️360°, 250, 15, 220240, 2000, ዋጋ, 2700, ...   \n",
              "15  [34, 1500, 4500, ብር, ከ, ነፃ, ማድረስ, ጋር, ለማዘዝ, ዲሊ...   \n",
              "9   [️500, ያለን, ግማሽ, ሊትር, 500ሚሊ, ብቻ, ነው, ያለው, ከለር,...   \n",
              "16  [ለቤቶ, ለስጦታ, በጥራት, በቅናሽ, ውስን, ፍሬ, የቀሩ, ዕቃወች, አሁ...   \n",
              "24  [የሽንኩርት, እና, የስጋ, መፍጫ, ማሽን, ️ሶስት, የፍጥነት, አማራጭ,...   \n",
              "34  [በዚህ, ክረምት, ደረጃ, ላይ, እንዳያንሽራተት, የሚጠቅም, ሁነኛ, ተለ...   \n",
              "31  [ጄል, ኮፍያ, ️ለራስ, ምታት, ህመም, መፍትሄ, ጄሉን, ለብሰው, ሲተኙ...   \n",
              "0   [️, 4, 1, 400, 10000, ብር, ከ, ነፃ, ማድረስ, ጋር, ለማዘ...   \n",
              "44  [የውኃ, እንፋሎት, የፊትዎን, ቀዳዳ, በመክፈት, ቆሻሻ, ውልቅ, ብሎ, ...   \n",
              "27  [400, ዋጋ, 700, ብር, ለማዘዝ, ️ጥራት, ዋስትና, ቅናሽ, አድራሻ...   \n",
              "33  [7, 1, 600, 15, 220, 39, ️3, ዋጋ, 9300, ብር, ከ, ...   \n",
              "5   [ክቡራን, ደንበኞቻችን, እሁድ, ሙሉ, ቀን, ሱቃችን, ዝግ, ነው, ከሰኞ...   \n",
              "29  [️3, 1, ህክምና, ይሰጣል, እና, ህክምና, በቤትዎ, የሆርሞን, መዛባ...   \n",
              "11  [15, 540, ለፀጉሮ, እና, ለፂሞ, ዕድገት, ለፊቶ, ጥራት, የፊት, ...   \n",
              "36  [አሁኑኑ, ይዘዙን, ውስን, ፍሬ, የቀሩ, ዕቃወች, ለማዘዝ, ጥራት, ️ዋ...   \n",
              "1   [4, 1, 400, 10000, ብር, ከ, ነፃ, ማድረስ, ጋር, ለማዘዝ, ...   \n",
              "21  [ለቤቶ, ለስጦታ, በጥራት, በቅናሽ, ውስን, ፍሬ, የቀሩ, ዕቃወች, አሁ...   \n",
              "2   [ባለ1, እና, ባለ, 2, ተች, ስቶቭ, ግዜዎን, እና, ጉልበትዎን, የሚ...   \n",
              "43  [አሁኑኑ, ይዘዙን, ውስን, ፍሬ, የቀሩ, ዕቃወች, ለማዘዝ, ጥራት, ️ዋ...   \n",
              "35  [በዚህ, ክረምት, ደረጃ, ላይ, እንዳያንሽራተት, የሚጠቅም, ሁነኛ, ተለ...   \n",
              "23  [7, 1, 800, 8000, ብር, ከ, ነፃ, ማድረስ, ጋር, ለማዘዝ, ዲ...   \n",
              "40  [አሁኑኑ, ይዘዙን, ውስን, ፍሬ, የቀሩ, ዕቃወች, ለማዘዝ, ጥራት, ️ዋ...   \n",
              "10  [15, 540, ለፀጉሮ, እና, ለፂሞ, ዕድገት, ለፊቶ, ጥራት, የፊት, ...   \n",
              "22  [ክቡራን, ደንበኞቻችን, እሁድ, ሙሉ, ቀን, ሱቃችን, ዝግ, ነው, ከሰኞ...   \n",
              "18  [️ሻይ, ማፍያ, እና, ውሃ, ማፍያ, 1500, 800, 2, 360°, 30...   \n",
              "49  [የሽንኩርት, እና, የስጋ, መፍጫ, ማሽን, ️ሶስት, የፍጥነት, አማራጭ,...   \n",
              "20  [6, ሊትር, 1800, ዋት, 360°, 4500, ብር, ከ, ነፃ, ማድረስ...   \n",
              "7   [4000, ብር, ከ, ነፃ, ማድረስ, ጋር, ለማዘዝ, ዲሊቨሪ, ብቻ, ️ጥ...   \n",
              "42  [አሁኑኑ, ይዘዙን, ውስን, ፍሬ, የቀሩ, ዕቃወች, ለማዘዝ, ጥራት, ️ዋ...   \n",
              "14  [ከጃር, ላይ, የመጠጥ, ዉሃ, የሚስብ, ተንቀሳቃሽ, ማሽን, በተመጣጣኝ,...   \n",
              "28  [45, 450, 5500, ብር, ከ, ነፃ, ማድረስ, ጋር, ለማዘዝ, ዲሊቨ...   \n",
              "38  [10, 450, ብር, ውስን, ፍሬ, ነው, የቀረው, ️ጥራት, ዋስትና, ቅ...   \n",
              "\n",
              "                                               labels  \n",
              "12  [O, O, O, O, O, O, O, O, O, O, O, O, O, O, O, ...  \n",
              "4   [O, O, O, O, O, O, O, O, B-PRICE, I-PRICE, O, ...  \n",
              "37  [O, B-PRICE, I-PRICE, O, O, O, O, O, O, O, O, ...  \n",
              "8   [O, O, O, O, O, O, O, O, O, O, O, B-PRICE, I-P...  \n",
              "3   [O, O, O, O, O, O, O, O, O, O, B-PRODUCT, O, I...  \n",
              "6   [B-PRODUCT, I-PRODUCT, I-PRODUCT, O, O, O, O, ...  \n",
              "41  [O, O, B-PRODUCT, I-PRODUCT, I-PRODUCT, O, O, ...  \n",
              "46  [O, O, O, O, O, O, O, O, O, O, O, O, O, O, O, ...  \n",
              "47  [O, O, O, O, O, O, B-PRICE, I-PRICE, I-PRICE, ...  \n",
              "15  [O, O, B-PRICE, I-PRICE, O, O, O, O, O, O, O, ...  \n",
              "9   [O, O, O, O, O, O, O, O, O, O, O, B-PRICE, I-P...  \n",
              "16  [O, O, O, O, O, O, O, B-PRODUCT, O, O, O, O, O...  \n",
              "24  [B-PRODUCT, O, I-PRODUCT, I-PRODUCT, I-PRODUCT...  \n",
              "34  [O, O, B-PRODUCT, I-PRODUCT, I-PRODUCT, I-PROD...  \n",
              "31  [B-PRODUCT, I-PRODUCT, O, O, O, O, O, O, O, O,...  \n",
              "0   [O, O, O, O, B-PRICE, I-PRICE, O, O, O, O, O, ...  \n",
              "44  [O, O, O, O, O, O, O, O, O, O, O, O, O, O, O, ...  \n",
              "27  [O, B-PRICE, I-PRICE, I-PRICE, O, O, O, O, O, ...  \n",
              "33  [O, O, O, O, O, O, O, B-PRICE, I-PRICE, I-PRIC...  \n",
              "5   [O, O, O, O, O, O, O, O, O, O, O, O, O, O, O, ...  \n",
              "29  [O, O, O, O, O, O, O, O, O, O, O, O, O, O, O, ...  \n",
              "11  [O, O, O, O, O, O, O, O, O, O, O, O, O, O, O, ...  \n",
              "36  [O, O, O, O, O, B-PRODUCT, O, O, O, O, O, O, O...  \n",
              "1   [O, O, O, B-PRODUCT, I-PRICE, O, O, O, O, O, O...  \n",
              "21  [O, O, O, O, O, O, O, I-PRODUCT, O, O, O, O, O...  \n",
              "2   [B-PRODUCT, I-PRODUCT, I-PRODUCT, O, I-PRODUCT...  \n",
              "43  [O, O, O, O, O, B-PRODUCT, O, O, O, O, O, O, O...  \n",
              "35  [O, O, B-PRODUCT, I-PRODUCT, I-PRODUCT, I-PROD...  \n",
              "23  [O, O, O, B-PRICE, I-PRICE, O, O, O, O, O, O, ...  \n",
              "40  [O, O, O, O, O, I-PRODUCT, O, O, O, O, O, O, O...  \n",
              "10  [O, O, O, O, O, O, O, O, O, O, O, O, O, O, O, ...  \n",
              "22  [O, O, O, O, O, O, O, O, O, O, O, O, O, O, O, ...  \n",
              "18  [B-PRODUCT, I-PRODUCT, O, I-PRODUCT, I-PRODUCT...  \n",
              "49  [B-PRODUCT, O, I-PRODUCT, I-PRODUCT, I-PRODUCT...  \n",
              "20  [O, O, O, O, O, B-PRICE, I-PRICE, O, O, O, O, ...  \n",
              "7   [B-PRICE, I-PRICE, O, O, O, O, O, O, O, O, O, ...  \n",
              "42  [O, O, O, O, O, B-PRODUCT, O, O, O, O, O, O, O...  \n",
              "14  [B-PRODUCT, I-PRODUCT, I-PRODUCT, I-PRODUCT, I...  \n",
              "28  [O, O, B-PRICE, I-PRICE, O, O, O, O, O, O, O, ...  \n",
              "38  [O, B-PRICE, I-PRICE, O, O, O, O, O, O, O, O, ...  "
            ]
          },
          "execution_count": 13,
          "metadata": {},
          "output_type": "execute_result"
        }
      ],
      "source": [
        "train_df"
      ]
    },
    {
      "cell_type": "code",
      "execution_count": 14,
      "metadata": {
        "execution": {
          "iopub.execute_input": "2024-09-28T15:09:50.629639Z",
          "iopub.status.busy": "2024-09-28T15:09:50.628662Z",
          "iopub.status.idle": "2024-09-28T15:09:50.637304Z",
          "shell.execute_reply": "2024-09-28T15:09:50.635492Z",
          "shell.execute_reply.started": "2024-09-28T15:09:50.629585Z"
        },
        "id": "8QDPBxyycb8L",
        "trusted": true
      },
      "outputs": [],
      "source": [
        "# Create a label mapping from string labels to integer IDs\n",
        "label_list = list(set([label for sublist in df['labels'] for label in sublist]))  # Get unique labels\n",
        "label_to_id = {label: i for i, label in enumerate(label_list)}\n",
        "id_to_label = {i: label for i, label in enumerate(label_list)}"
      ]
    },
    {
      "cell_type": "markdown",
      "metadata": {
        "execution": {
          "iopub.execute_input": "2024-09-28T14:30:23.515687Z",
          "iopub.status.busy": "2024-09-28T14:30:23.515128Z",
          "iopub.status.idle": "2024-09-28T14:30:23.549833Z",
          "shell.execute_reply": "2024-09-28T14:30:23.548375Z",
          "shell.execute_reply.started": "2024-09-28T14:30:23.515642Z"
        },
        "id": "wc0529xecb8M"
      },
      "source": [
        "Step 2: Tokenize the Data"
      ]
    },
    {
      "cell_type": "code",
      "execution_count": 18,
      "metadata": {
        "execution": {
          "iopub.execute_input": "2024-09-28T15:10:23.884646Z",
          "iopub.status.busy": "2024-09-28T15:10:23.884239Z",
          "iopub.status.idle": "2024-09-28T15:10:25.439247Z",
          "shell.execute_reply": "2024-09-28T15:10:25.438235Z",
          "shell.execute_reply.started": "2024-09-28T15:10:23.884608Z"
        },
        "id": "4sdJGQqccb8M",
        "trusted": true
      },
      "outputs": [],
      "source": [
        "def tokenize_and_align_labels(dataframe, tokenizer, label_to_id):\n",
        "    tokenized_inputs = tokenizer(\n",
        "        list(dataframe['tokens']),\n",
        "        truncation=True,\n",
        "        is_split_into_words=True,\n",
        "        padding=True,\n",
        "        return_tensors='pt'  # Use PyTorch tensors\n",
        "    )\n",
        "\n",
        "    labels = []\n",
        "    for i, label in enumerate(dataframe['labels']):\n",
        "        word_ids = tokenized_inputs.word_ids(batch_index=i)\n",
        "        label_ids = [-100] * len(tokenized_inputs['input_ids'][i])  # Use -100 for ignored labels\n",
        "        for word_index in range(len(word_ids)):\n",
        "            if word_ids[word_index] is not None:  # If it's a valid word\n",
        "                if word_ids[word_index] < len(label):  # Ensure word_ids is within bounds\n",
        "                    label_ids[word_index] = label_to_id.get(label[word_ids[word_index]], -100)  # Use -100 if label not found\n",
        "        labels.append(label_ids)\n",
        "\n",
        "    tokenized_inputs[\"labels\"] = labels\n",
        "\n",
        "    # Ensure all expected keys are present\n",
        "    expected_keys = ['input_ids', 'attention_mask', 'labels']\n",
        "    for key in expected_keys:\n",
        "        if key not in tokenized_inputs:\n",
        "            raise ValueError(f\"Key {key} not found in tokenized inputs.\")\n",
        "\n",
        "    return tokenized_inputs"
      ]
    },
    {
      "cell_type": "code",
      "execution_count": 23,
      "metadata": {
        "colab": {
          "base_uri": "https://localhost:8080/"
        },
        "id": "Li5GPwWFcb8N",
        "outputId": "c72429fc-49dd-46fe-8c98-92dfd73dfe55"
      },
      "outputs": [
        {
          "ename": "ImportError",
          "evalue": "\nAutoModelForTokenClassification requires the PyTorch library but it was not found in your environment. Checkout the instructions on the\ninstallation page: https://pytorch.org/get-started/locally/ and follow the ones that match your environment.\nPlease note that you may need to restart your runtime after installation.\n",
          "output_type": "error",
          "traceback": [
            "\u001b[1;31m---------------------------------------------------------------------------\u001b[0m",
            "\u001b[1;31mImportError\u001b[0m                               Traceback (most recent call last)",
            "Cell \u001b[1;32mIn[23], line 16\u001b[0m\n\u001b[0;32m     14\u001b[0m \u001b[38;5;28;01mfor\u001b[39;00m model_name \u001b[38;5;129;01min\u001b[39;00m model_names:\n\u001b[0;32m     15\u001b[0m     tokenizers[model_name] \u001b[38;5;241m=\u001b[39m AutoTokenizer\u001b[38;5;241m.\u001b[39mfrom_pretrained(model_name)\n\u001b[1;32m---> 16\u001b[0m     models[model_name] \u001b[38;5;241m=\u001b[39m \u001b[43mAutoModelForTokenClassification\u001b[49m\u001b[38;5;241;43m.\u001b[39;49m\u001b[43mfrom_pretrained\u001b[49m(model_name, num_labels\u001b[38;5;241m=\u001b[39m\u001b[38;5;28mlen\u001b[39m(label_to_id))\n",
            "File \u001b[1;32md:\\10 A KAI 2\\week 5\\Ethio_Ecommerce_NER\\venv\\Lib\\site-packages\\transformers\\utils\\import_utils.py:1637\u001b[0m, in \u001b[0;36mDummyObject.__getattribute__\u001b[1;34m(cls, key)\u001b[0m\n\u001b[0;32m   1635\u001b[0m \u001b[38;5;28;01mif\u001b[39;00m key\u001b[38;5;241m.\u001b[39mstartswith(\u001b[38;5;124m\"\u001b[39m\u001b[38;5;124m_\u001b[39m\u001b[38;5;124m\"\u001b[39m) \u001b[38;5;129;01mand\u001b[39;00m key \u001b[38;5;241m!=\u001b[39m \u001b[38;5;124m\"\u001b[39m\u001b[38;5;124m_from_config\u001b[39m\u001b[38;5;124m\"\u001b[39m:\n\u001b[0;32m   1636\u001b[0m     \u001b[38;5;28;01mreturn\u001b[39;00m \u001b[38;5;28msuper\u001b[39m()\u001b[38;5;241m.\u001b[39m\u001b[38;5;21m__getattribute__\u001b[39m(key)\n\u001b[1;32m-> 1637\u001b[0m \u001b[43mrequires_backends\u001b[49m\u001b[43m(\u001b[49m\u001b[38;5;28;43mcls\u001b[39;49m\u001b[43m,\u001b[49m\u001b[43m \u001b[49m\u001b[38;5;28;43mcls\u001b[39;49m\u001b[38;5;241;43m.\u001b[39;49m\u001b[43m_backends\u001b[49m\u001b[43m)\u001b[49m\n",
            "File \u001b[1;32md:\\10 A KAI 2\\week 5\\Ethio_Ecommerce_NER\\venv\\Lib\\site-packages\\transformers\\utils\\import_utils.py:1625\u001b[0m, in \u001b[0;36mrequires_backends\u001b[1;34m(obj, backends)\u001b[0m\n\u001b[0;32m   1623\u001b[0m failed \u001b[38;5;241m=\u001b[39m [msg\u001b[38;5;241m.\u001b[39mformat(name) \u001b[38;5;28;01mfor\u001b[39;00m available, msg \u001b[38;5;129;01min\u001b[39;00m checks \u001b[38;5;28;01mif\u001b[39;00m \u001b[38;5;129;01mnot\u001b[39;00m available()]\n\u001b[0;32m   1624\u001b[0m \u001b[38;5;28;01mif\u001b[39;00m failed:\n\u001b[1;32m-> 1625\u001b[0m     \u001b[38;5;28;01mraise\u001b[39;00m \u001b[38;5;167;01mImportError\u001b[39;00m(\u001b[38;5;124m\"\u001b[39m\u001b[38;5;124m\"\u001b[39m\u001b[38;5;241m.\u001b[39mjoin(failed))\n",
            "\u001b[1;31mImportError\u001b[0m: \nAutoModelForTokenClassification requires the PyTorch library but it was not found in your environment. Checkout the instructions on the\ninstallation page: https://pytorch.org/get-started/locally/ and follow the ones that match your environment.\nPlease note that you may need to restart your runtime after installation.\n"
          ]
        }
      ],
      "source": [
        "# Ensure this section has been executed first\n",
        "from transformers import AutoTokenizer, AutoModelForTokenClassification\n",
        "\n",
        "model_names = [\n",
        "    \"xlm-roberta-base\",\n",
        "    \"distilbert-base-multilingual-cased\",\n",
        "    \"bert-base-multilingual-cased\"\n",
        "]\n",
        "\n",
        "# Initialize dictionaries to hold tokenizers and models\n",
        "tokenizers = {}\n",
        "models = {}\n",
        "\n",
        "for model_name in model_names:\n",
        "    tokenizers[model_name] = AutoTokenizer.from_pretrained(model_name)\n",
        "    models[model_name] = AutoModelForTokenClassification.from_pretrained(model_name, num_labels=len(label_to_id))"
      ]
    },
    {
      "cell_type": "markdown",
      "metadata": {
        "id": "FcwmytF6cb8O"
      },
      "source": [
        "Step 3: Prepare the Dataset for Training"
      ]
    },
    {
      "cell_type": "markdown",
      "metadata": {
        "id": "ndm58WaJcb8O"
      },
      "source": [
        "Step 4: Set Up Training Arguments"
      ]
    },
    {
      "cell_type": "code",
      "execution_count": 22,
      "metadata": {
        "colab": {
          "base_uri": "https://localhost:8080/"
        },
        "execution": {
          "iopub.execute_input": "2024-09-28T15:16:34.347005Z",
          "iopub.status.busy": "2024-09-28T15:16:34.346530Z",
          "iopub.status.idle": "2024-09-28T15:16:34.382764Z",
          "shell.execute_reply": "2024-09-28T15:16:34.381777Z",
          "shell.execute_reply.started": "2024-09-28T15:16:34.346965Z"
        },
        "id": "1sL5tIT6cb8P",
        "outputId": "874ffa6e-d9f6-457c-8815-05d76eacf41f",
        "trusted": true
      },
      "outputs": [
        {
          "name": "stderr",
          "output_type": "stream",
          "text": [
            "d:\\10 A KAI 2\\week 5\\Ethio_Ecommerce_NER\\venv\\Lib\\site-packages\\transformers\\training_args.py:1545: FutureWarning: `evaluation_strategy` is deprecated and will be removed in version 4.46 of 🤗 Transformers. Use `eval_strategy` instead\n",
            "  warnings.warn(\n"
          ]
        }
      ],
      "source": [
        "from transformers import TrainingArguments\n",
        "\n",
        "training_args = TrainingArguments(\n",
        "    output_dir=\"./results\",\n",
        "    evaluation_strategy=\"epoch\",\n",
        "    learning_rate=2e-5,\n",
        "    per_device_train_batch_size=16,\n",
        "    per_device_eval_batch_size=16,\n",
        "    num_train_epochs=3,\n",
        "    weight_decay=0.01,\n",
        ")"
      ]
    },
    {
      "cell_type": "markdown",
      "metadata": {
        "id": "4aMQsFs-cb8P"
      },
      "source": [
        "Step 5: Fine-tune the Model"
      ]
    },
    {
      "cell_type": "code",
      "execution_count": 41,
      "metadata": {
        "colab": {
          "base_uri": "https://localhost:8080/",
          "height": 408
        },
        "execution": {
          "iopub.execute_input": "2024-09-28T15:16:37.634436Z",
          "iopub.status.busy": "2024-09-28T15:16:37.633698Z",
          "iopub.status.idle": "2024-09-28T15:20:20.946005Z",
          "shell.execute_reply": "2024-09-28T15:20:20.944832Z",
          "shell.execute_reply.started": "2024-09-28T15:16:37.634394Z"
        },
        "id": "ZzfXMtsdcb8P",
        "outputId": "5de7601d-610f-4ed5-f20d-fdd530d4d2b8",
        "trusted": true
      },
      "outputs": [
        {
          "ename": "RuntimeError",
          "evalue": "CUDA error: device-side assert triggered\nCUDA kernel errors might be asynchronously reported at some other API call, so the stacktrace below might be incorrect.\nFor debugging consider passing CUDA_LAUNCH_BLOCKING=1\nCompile with `TORCH_USE_CUDA_DSA` to enable device-side assertions.\n",
          "output_type": "error",
          "traceback": [
            "\u001b[0;31m---------------------------------------------------------------------------\u001b[0m",
            "\u001b[0;31mRuntimeError\u001b[0m                              Traceback (most recent call last)",
            "\u001b[0;32m<ipython-input-41-f52a3a166b7a>\u001b[0m in \u001b[0;36m<cell line: 5>\u001b[0;34m()\u001b[0m\n\u001b[1;32m      4\u001b[0m \u001b[0;34m\u001b[0m\u001b[0m\n\u001b[1;32m      5\u001b[0m \u001b[0;32mfor\u001b[0m \u001b[0mmodel_name\u001b[0m \u001b[0;32min\u001b[0m \u001b[0mmodel_names\u001b[0m\u001b[0;34m:\u001b[0m\u001b[0;34m\u001b[0m\u001b[0;34m\u001b[0m\u001b[0m\n\u001b[0;32m----> 6\u001b[0;31m     trainer = Trainer(\n\u001b[0m\u001b[1;32m      7\u001b[0m         \u001b[0mmodel\u001b[0m\u001b[0;34m=\u001b[0m\u001b[0mmodels\u001b[0m\u001b[0;34m[\u001b[0m\u001b[0mmodel_name\u001b[0m\u001b[0;34m]\u001b[0m\u001b[0;34m,\u001b[0m\u001b[0;34m\u001b[0m\u001b[0;34m\u001b[0m\u001b[0m\n\u001b[1;32m      8\u001b[0m         \u001b[0margs\u001b[0m\u001b[0;34m=\u001b[0m\u001b[0mtraining_args\u001b[0m\u001b[0;34m,\u001b[0m\u001b[0;34m\u001b[0m\u001b[0;34m\u001b[0m\u001b[0m\n",
            "\u001b[0;32m/usr/local/lib/python3.10/dist-packages/transformers/trainer.py\u001b[0m in \u001b[0;36m__init__\u001b[0;34m(self, model, args, data_collator, train_dataset, eval_dataset, tokenizer, model_init, compute_metrics, callbacks, optimizers, preprocess_logits_for_metrics)\u001b[0m\n\u001b[1;32m    402\u001b[0m         \u001b[0mself\u001b[0m\u001b[0;34m.\u001b[0m\u001b[0margs\u001b[0m \u001b[0;34m=\u001b[0m \u001b[0margs\u001b[0m\u001b[0;34m\u001b[0m\u001b[0;34m\u001b[0m\u001b[0m\n\u001b[1;32m    403\u001b[0m         \u001b[0;31m# Seed must be set before instantiating the model when using model\u001b[0m\u001b[0;34m\u001b[0m\u001b[0;34m\u001b[0m\u001b[0m\n\u001b[0;32m--> 404\u001b[0;31m         \u001b[0menable_full_determinism\u001b[0m\u001b[0;34m(\u001b[0m\u001b[0mself\u001b[0m\u001b[0;34m.\u001b[0m\u001b[0margs\u001b[0m\u001b[0;34m.\u001b[0m\u001b[0mseed\u001b[0m\u001b[0;34m)\u001b[0m \u001b[0;32mif\u001b[0m \u001b[0mself\u001b[0m\u001b[0;34m.\u001b[0m\u001b[0margs\u001b[0m\u001b[0;34m.\u001b[0m\u001b[0mfull_determinism\u001b[0m \u001b[0;32melse\u001b[0m \u001b[0mset_seed\u001b[0m\u001b[0;34m(\u001b[0m\u001b[0mself\u001b[0m\u001b[0;34m.\u001b[0m\u001b[0margs\u001b[0m\u001b[0;34m.\u001b[0m\u001b[0mseed\u001b[0m\u001b[0;34m)\u001b[0m\u001b[0;34m\u001b[0m\u001b[0;34m\u001b[0m\u001b[0m\n\u001b[0m\u001b[1;32m    405\u001b[0m         \u001b[0mself\u001b[0m\u001b[0;34m.\u001b[0m\u001b[0mhp_name\u001b[0m \u001b[0;34m=\u001b[0m \u001b[0;32mNone\u001b[0m\u001b[0;34m\u001b[0m\u001b[0;34m\u001b[0m\u001b[0m\n\u001b[1;32m    406\u001b[0m         \u001b[0mself\u001b[0m\u001b[0;34m.\u001b[0m\u001b[0mdeepspeed\u001b[0m \u001b[0;34m=\u001b[0m \u001b[0;32mNone\u001b[0m\u001b[0;34m\u001b[0m\u001b[0;34m\u001b[0m\u001b[0m\n",
            "\u001b[0;32m/usr/local/lib/python3.10/dist-packages/transformers/trainer_utils.py\u001b[0m in \u001b[0;36mset_seed\u001b[0;34m(seed, deterministic)\u001b[0m\n\u001b[1;32m    102\u001b[0m     \u001b[0mnp\u001b[0m\u001b[0;34m.\u001b[0m\u001b[0mrandom\u001b[0m\u001b[0;34m.\u001b[0m\u001b[0mseed\u001b[0m\u001b[0;34m(\u001b[0m\u001b[0mseed\u001b[0m\u001b[0;34m)\u001b[0m\u001b[0;34m\u001b[0m\u001b[0;34m\u001b[0m\u001b[0m\n\u001b[1;32m    103\u001b[0m     \u001b[0;32mif\u001b[0m \u001b[0mis_torch_available\u001b[0m\u001b[0;34m(\u001b[0m\u001b[0;34m)\u001b[0m\u001b[0;34m:\u001b[0m\u001b[0;34m\u001b[0m\u001b[0;34m\u001b[0m\u001b[0m\n\u001b[0;32m--> 104\u001b[0;31m         \u001b[0mtorch\u001b[0m\u001b[0;34m.\u001b[0m\u001b[0mmanual_seed\u001b[0m\u001b[0;34m(\u001b[0m\u001b[0mseed\u001b[0m\u001b[0;34m)\u001b[0m\u001b[0;34m\u001b[0m\u001b[0;34m\u001b[0m\u001b[0m\n\u001b[0m\u001b[1;32m    105\u001b[0m         \u001b[0mtorch\u001b[0m\u001b[0;34m.\u001b[0m\u001b[0mcuda\u001b[0m\u001b[0;34m.\u001b[0m\u001b[0mmanual_seed_all\u001b[0m\u001b[0;34m(\u001b[0m\u001b[0mseed\u001b[0m\u001b[0;34m)\u001b[0m\u001b[0;34m\u001b[0m\u001b[0;34m\u001b[0m\u001b[0m\n\u001b[1;32m    106\u001b[0m         \u001b[0;31m# ^^ safe to call this function even if cuda is not available\u001b[0m\u001b[0;34m\u001b[0m\u001b[0;34m\u001b[0m\u001b[0m\n",
            "\u001b[0;32m/usr/local/lib/python3.10/dist-packages/torch/_compile.py\u001b[0m in \u001b[0;36minner\u001b[0;34m(*args, **kwargs)\u001b[0m\n\u001b[1;32m     29\u001b[0m                 \u001b[0mfn\u001b[0m\u001b[0;34m.\u001b[0m\u001b[0m__dynamo_disable\u001b[0m \u001b[0;34m=\u001b[0m \u001b[0mdisable_fn\u001b[0m\u001b[0;34m\u001b[0m\u001b[0;34m\u001b[0m\u001b[0m\n\u001b[1;32m     30\u001b[0m \u001b[0;34m\u001b[0m\u001b[0m\n\u001b[0;32m---> 31\u001b[0;31m             \u001b[0;32mreturn\u001b[0m \u001b[0mdisable_fn\u001b[0m\u001b[0;34m(\u001b[0m\u001b[0;34m*\u001b[0m\u001b[0margs\u001b[0m\u001b[0;34m,\u001b[0m \u001b[0;34m**\u001b[0m\u001b[0mkwargs\u001b[0m\u001b[0;34m)\u001b[0m\u001b[0;34m\u001b[0m\u001b[0;34m\u001b[0m\u001b[0m\n\u001b[0m\u001b[1;32m     32\u001b[0m \u001b[0;34m\u001b[0m\u001b[0m\n\u001b[1;32m     33\u001b[0m         \u001b[0;32mreturn\u001b[0m \u001b[0minner\u001b[0m\u001b[0;34m\u001b[0m\u001b[0;34m\u001b[0m\u001b[0m\n",
            "\u001b[0;32m/usr/local/lib/python3.10/dist-packages/torch/_dynamo/eval_frame.py\u001b[0m in \u001b[0;36m_fn\u001b[0;34m(*args, **kwargs)\u001b[0m\n\u001b[1;32m    598\u001b[0m             \u001b[0mprior\u001b[0m \u001b[0;34m=\u001b[0m \u001b[0mset_eval_frame\u001b[0m\u001b[0;34m(\u001b[0m\u001b[0mcallback\u001b[0m\u001b[0;34m)\u001b[0m\u001b[0;34m\u001b[0m\u001b[0;34m\u001b[0m\u001b[0m\n\u001b[1;32m    599\u001b[0m             \u001b[0;32mtry\u001b[0m\u001b[0;34m:\u001b[0m\u001b[0;34m\u001b[0m\u001b[0;34m\u001b[0m\u001b[0m\n\u001b[0;32m--> 600\u001b[0;31m                 \u001b[0;32mreturn\u001b[0m \u001b[0mfn\u001b[0m\u001b[0;34m(\u001b[0m\u001b[0;34m*\u001b[0m\u001b[0margs\u001b[0m\u001b[0;34m,\u001b[0m \u001b[0;34m**\u001b[0m\u001b[0mkwargs\u001b[0m\u001b[0;34m)\u001b[0m\u001b[0;34m\u001b[0m\u001b[0;34m\u001b[0m\u001b[0m\n\u001b[0m\u001b[1;32m    601\u001b[0m             \u001b[0;32mfinally\u001b[0m\u001b[0;34m:\u001b[0m\u001b[0;34m\u001b[0m\u001b[0;34m\u001b[0m\u001b[0m\n\u001b[1;32m    602\u001b[0m                 \u001b[0mset_eval_frame\u001b[0m\u001b[0;34m(\u001b[0m\u001b[0mprior\u001b[0m\u001b[0;34m)\u001b[0m\u001b[0;34m\u001b[0m\u001b[0;34m\u001b[0m\u001b[0m\n",
            "\u001b[0;32m/usr/local/lib/python3.10/dist-packages/torch/random.py\u001b[0m in \u001b[0;36mmanual_seed\u001b[0;34m(seed)\u001b[0m\n\u001b[1;32m     44\u001b[0m \u001b[0;34m\u001b[0m\u001b[0m\n\u001b[1;32m     45\u001b[0m     \u001b[0;32mif\u001b[0m \u001b[0;32mnot\u001b[0m \u001b[0mtorch\u001b[0m\u001b[0;34m.\u001b[0m\u001b[0mcuda\u001b[0m\u001b[0;34m.\u001b[0m\u001b[0m_is_in_bad_fork\u001b[0m\u001b[0;34m(\u001b[0m\u001b[0;34m)\u001b[0m\u001b[0;34m:\u001b[0m\u001b[0;34m\u001b[0m\u001b[0;34m\u001b[0m\u001b[0m\n\u001b[0;32m---> 46\u001b[0;31m         \u001b[0mtorch\u001b[0m\u001b[0;34m.\u001b[0m\u001b[0mcuda\u001b[0m\u001b[0;34m.\u001b[0m\u001b[0mmanual_seed_all\u001b[0m\u001b[0;34m(\u001b[0m\u001b[0mseed\u001b[0m\u001b[0;34m)\u001b[0m\u001b[0;34m\u001b[0m\u001b[0;34m\u001b[0m\u001b[0m\n\u001b[0m\u001b[1;32m     47\u001b[0m \u001b[0;34m\u001b[0m\u001b[0m\n\u001b[1;32m     48\u001b[0m     \u001b[0;32mimport\u001b[0m \u001b[0mtorch\u001b[0m\u001b[0;34m.\u001b[0m\u001b[0mmps\u001b[0m\u001b[0;34m\u001b[0m\u001b[0;34m\u001b[0m\u001b[0m\n",
            "\u001b[0;32m/usr/local/lib/python3.10/dist-packages/torch/cuda/random.py\u001b[0m in \u001b[0;36mmanual_seed_all\u001b[0;34m(seed)\u001b[0m\n\u001b[1;32m    125\u001b[0m             \u001b[0mdefault_generator\u001b[0m\u001b[0;34m.\u001b[0m\u001b[0mmanual_seed\u001b[0m\u001b[0;34m(\u001b[0m\u001b[0mseed\u001b[0m\u001b[0;34m)\u001b[0m\u001b[0;34m\u001b[0m\u001b[0;34m\u001b[0m\u001b[0m\n\u001b[1;32m    126\u001b[0m \u001b[0;34m\u001b[0m\u001b[0m\n\u001b[0;32m--> 127\u001b[0;31m     \u001b[0m_lazy_call\u001b[0m\u001b[0;34m(\u001b[0m\u001b[0mcb\u001b[0m\u001b[0;34m,\u001b[0m \u001b[0mseed_all\u001b[0m\u001b[0;34m=\u001b[0m\u001b[0;32mTrue\u001b[0m\u001b[0;34m)\u001b[0m\u001b[0;34m\u001b[0m\u001b[0;34m\u001b[0m\u001b[0m\n\u001b[0m\u001b[1;32m    128\u001b[0m \u001b[0;34m\u001b[0m\u001b[0m\n\u001b[1;32m    129\u001b[0m \u001b[0;34m\u001b[0m\u001b[0m\n",
            "\u001b[0;32m/usr/local/lib/python3.10/dist-packages/torch/cuda/__init__.py\u001b[0m in \u001b[0;36m_lazy_call\u001b[0;34m(callable, **kwargs)\u001b[0m\n\u001b[1;32m    242\u001b[0m \u001b[0;32mdef\u001b[0m \u001b[0m_lazy_call\u001b[0m\u001b[0;34m(\u001b[0m\u001b[0mcallable\u001b[0m\u001b[0;34m,\u001b[0m \u001b[0;34m**\u001b[0m\u001b[0mkwargs\u001b[0m\u001b[0;34m)\u001b[0m\u001b[0;34m:\u001b[0m\u001b[0;34m\u001b[0m\u001b[0;34m\u001b[0m\u001b[0m\n\u001b[1;32m    243\u001b[0m     \u001b[0;32mif\u001b[0m \u001b[0mis_initialized\u001b[0m\u001b[0;34m(\u001b[0m\u001b[0;34m)\u001b[0m\u001b[0;34m:\u001b[0m\u001b[0;34m\u001b[0m\u001b[0;34m\u001b[0m\u001b[0m\n\u001b[0;32m--> 244\u001b[0;31m         \u001b[0mcallable\u001b[0m\u001b[0;34m(\u001b[0m\u001b[0;34m)\u001b[0m\u001b[0;34m\u001b[0m\u001b[0;34m\u001b[0m\u001b[0m\n\u001b[0m\u001b[1;32m    245\u001b[0m     \u001b[0;32melse\u001b[0m\u001b[0;34m:\u001b[0m\u001b[0;34m\u001b[0m\u001b[0;34m\u001b[0m\u001b[0m\n\u001b[1;32m    246\u001b[0m         \u001b[0;31m# TODO(torch_deploy): this accesses linecache, which attempts to read the\u001b[0m\u001b[0;34m\u001b[0m\u001b[0;34m\u001b[0m\u001b[0m\n",
            "\u001b[0;32m/usr/local/lib/python3.10/dist-packages/torch/cuda/random.py\u001b[0m in \u001b[0;36mcb\u001b[0;34m()\u001b[0m\n\u001b[1;32m    123\u001b[0m         \u001b[0;32mfor\u001b[0m \u001b[0mi\u001b[0m \u001b[0;32min\u001b[0m \u001b[0mrange\u001b[0m\u001b[0;34m(\u001b[0m\u001b[0mdevice_count\u001b[0m\u001b[0;34m(\u001b[0m\u001b[0;34m)\u001b[0m\u001b[0;34m)\u001b[0m\u001b[0;34m:\u001b[0m\u001b[0;34m\u001b[0m\u001b[0;34m\u001b[0m\u001b[0m\n\u001b[1;32m    124\u001b[0m             \u001b[0mdefault_generator\u001b[0m \u001b[0;34m=\u001b[0m \u001b[0mtorch\u001b[0m\u001b[0;34m.\u001b[0m\u001b[0mcuda\u001b[0m\u001b[0;34m.\u001b[0m\u001b[0mdefault_generators\u001b[0m\u001b[0;34m[\u001b[0m\u001b[0mi\u001b[0m\u001b[0;34m]\u001b[0m\u001b[0;34m\u001b[0m\u001b[0;34m\u001b[0m\u001b[0m\n\u001b[0;32m--> 125\u001b[0;31m             \u001b[0mdefault_generator\u001b[0m\u001b[0;34m.\u001b[0m\u001b[0mmanual_seed\u001b[0m\u001b[0;34m(\u001b[0m\u001b[0mseed\u001b[0m\u001b[0;34m)\u001b[0m\u001b[0;34m\u001b[0m\u001b[0;34m\u001b[0m\u001b[0m\n\u001b[0m\u001b[1;32m    126\u001b[0m \u001b[0;34m\u001b[0m\u001b[0m\n\u001b[1;32m    127\u001b[0m     \u001b[0m_lazy_call\u001b[0m\u001b[0;34m(\u001b[0m\u001b[0mcb\u001b[0m\u001b[0;34m,\u001b[0m \u001b[0mseed_all\u001b[0m\u001b[0;34m=\u001b[0m\u001b[0;32mTrue\u001b[0m\u001b[0;34m)\u001b[0m\u001b[0;34m\u001b[0m\u001b[0;34m\u001b[0m\u001b[0m\n",
            "\u001b[0;31mRuntimeError\u001b[0m: CUDA error: device-side assert triggered\nCUDA kernel errors might be asynchronously reported at some other API call, so the stacktrace below might be incorrect.\nFor debugging consider passing CUDA_LAUNCH_BLOCKING=1\nCompile with `TORCH_USE_CUDA_DSA` to enable device-side assertions.\n"
          ]
        }
      ],
      "source": [
        "from transformers import Trainer\n",
        "\n",
        "results = {}\n",
        "\n",
        "for model_name in model_names:\n",
        "    trainer = Trainer(\n",
        "        model=models[model_name],\n",
        "        args=training_args,\n",
        "        train_dataset=train_dataset,\n",
        "        eval_dataset=val_dataset\n",
        "    )\n",
        "\n",
        "    trainer.train()\n",
        "    eval_result = trainer.evaluate()\n",
        "    results[model_name] = eval_result"
      ]
    },
    {
      "cell_type": "markdown",
      "metadata": {
        "id": "RMPJUH5Ncb8P"
      },
      "source": [
        "Step 6: Evaluate the Model"
      ]
    },
    {
      "cell_type": "code",
      "execution_count": null,
      "metadata": {
        "execution": {
          "iopub.execute_input": "2024-09-28T15:20:41.835719Z",
          "iopub.status.busy": "2024-09-28T15:20:41.834831Z",
          "iopub.status.idle": "2024-09-28T15:20:42.056191Z",
          "shell.execute_reply": "2024-09-28T15:20:42.055282Z",
          "shell.execute_reply.started": "2024-09-28T15:20:41.835676Z"
        },
        "id": "GDa20lhDcb8P",
        "outputId": "d3c23652-cc7a-4934-b749-3a5e1eae98bb",
        "trusted": true
      },
      "outputs": [
        {
          "data": {
            "text/html": [
              "\n",
              "    <div>\n",
              "      \n",
              "      <progress value='1' max='1' style='width:300px; height:20px; vertical-align: middle;'></progress>\n",
              "      [1/1 : < :]\n",
              "    </div>\n",
              "    "
            ],
            "text/plain": [
              "<IPython.core.display.HTML object>"
            ]
          },
          "metadata": {},
          "output_type": "display_data"
        },
        {
          "data": {
            "text/plain": [
              "{'eval_loss': 0.37177950143814087,\n",
              " 'eval_runtime': 0.2086,\n",
              " 'eval_samples_per_second': 47.939,\n",
              " 'eval_steps_per_second': 4.794,\n",
              " 'epoch': 30.0}"
            ]
          },
          "execution_count": 20,
          "metadata": {},
          "output_type": "execute_result"
        }
      ],
      "source": [
        "import numpy as np\n",
        "\n",
        "# Example evaluation metrics\n",
        "for model_name, metrics in results.items():\n",
        "    print(f\"{model_name} - Accuracy: {metrics['eval_accuracy']}, Loss: {metrics['eval_loss']}\")"
      ]
    },
    {
      "cell_type": "markdown",
      "metadata": {
        "id": "IzLRwpyrcb8Q"
      },
      "source": [
        "Step 7: Save the Model"
      ]
    },
    {
      "cell_type": "markdown",
      "metadata": {
        "id": "JM5lNblncb8Q"
      },
      "source": []
    },
    {
      "cell_type": "code",
      "execution_count": null,
      "metadata": {
        "id": "J8W8pTC2cb8Q"
      },
      "outputs": [],
      "source": [
        "best_model_name = max(results, key=lambda x: results[x]['eval_accuracy'])\n",
        "print(f\"Best model for production: {best_model_name}\")"
      ]
    },
    {
      "cell_type": "code",
      "execution_count": null,
      "metadata": {
        "id": "XV9FXExacb8Q"
      },
      "outputs": [],
      "source": [
        "best_model = models[best_model_name]\n",
        "best_model.save_pretrained(f\"./fine_tuned_{best_model_name}\")\n",
        "tokenizers[best_model_name].save_pretrained(f\"./fine_tuned_{best_model_name}\")"
      ]
    }
  ],
  "metadata": {
    "accelerator": "GPU",
    "colab": {
      "gpuType": "T4",
      "provenance": []
    },
    "kaggle": {
      "accelerator": "gpu",
      "dataSources": [
        {
          "datasetId": 5783038,
          "sourceId": 9502198,
          "sourceType": "datasetVersion"
        },
        {
          "datasetId": 5783251,
          "sourceId": 9502490,
          "sourceType": "datasetVersion"
        }
      ],
      "isGpuEnabled": true,
      "isInternetEnabled": true,
      "language": "python",
      "sourceType": "notebook"
    },
    "kernelspec": {
      "display_name": "Python 3",
      "name": "python3"
    },
    "language_info": {
      "codemirror_mode": {
        "name": "ipython",
        "version": 3
      },
      "file_extension": ".py",
      "mimetype": "text/x-python",
      "name": "python",
      "nbconvert_exporter": "python",
      "pygments_lexer": "ipython3",
      "version": "3.11.2"
    }
  },
  "nbformat": 4,
  "nbformat_minor": 0
}
